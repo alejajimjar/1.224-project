{
 "cells": [
  {
   "cell_type": "markdown",
   "metadata": {},
   "source": [
    "## Option 1: Web Scraping"
   ]
  },
  {
   "cell_type": "code",
   "execution_count": 69,
   "metadata": {},
   "outputs": [
    {
     "name": "stdout",
     "output_type": "stream",
     "text": [
      "96\n"
     ]
    }
   ],
   "source": [
    "import requests\n",
    "from bs4 import BeautifulSoup\n",
    "\n",
    "URL = 'https://www.walkscore.com/score/1654-massachusetts-ave-cambridge-ma-02138'\n",
    "page = requests.get(URL)\n",
    "\n",
    "soup = BeautifulSoup(page.content, 'html.parser')\n",
    "\n",
    "score_section = soup.find(class_='block-header-badge score-info-link')\n",
    "x = [img[\"src\"] for img in score_section.select(\"img[src]\")]\n",
    "\n",
    "X_test = int(x[0].replace(\"//pp.walk.sc/badge/walk/score/\", \"\").rstrip(x[0][-4:]))\n",
    "\n",
    "print(X_test)"
   ]
  },
  {
   "cell_type": "markdown",
   "metadata": {},
   "source": [
    "## Option 2: API Calls"
   ]
  },
  {
   "cell_type": "code",
   "execution_count": 1,
   "metadata": {},
   "outputs": [],
   "source": [
    "from walkscore import WalkScoreAPI"
   ]
  },
  {
   "cell_type": "code",
   "execution_count": 2,
   "metadata": {},
   "outputs": [],
   "source": [
    "api_key = 'YOUR API KEY GOES HERE'\n",
    "\n",
    "walkscore_api = WalkScoreAPI(api_key = api_key)"
   ]
  },
  {
   "cell_type": "code",
   "execution_count": 45,
   "metadata": {},
   "outputs": [],
   "source": [
    "#address = '123 Anyplace St Anywhere, AK 12345'\n",
    "\n",
    "#result = walkscore_api.get_score(latitude = 123.45, longitude = 54.321, address = address)\n",
    "\n",
    "# the WalkScore for the location\n",
    "#result.walk_score\n",
    "\n",
    "# the TransitScore for the location\n",
    "#result.transit_score\n",
    "\n",
    "# the BikeScore for the location\n",
    "#result.bike_score"
   ]
  },
  {
   "cell_type": "code",
   "execution_count": null,
   "metadata": {},
   "outputs": [],
   "source": []
  }
 ],
 "metadata": {
  "kernelspec": {
   "display_name": "Python 3",
   "language": "python",
   "name": "python3"
  },
  "language_info": {
   "codemirror_mode": {
    "name": "ipython",
    "version": 3
   },
   "file_extension": ".py",
   "mimetype": "text/x-python",
   "name": "python",
   "nbconvert_exporter": "python",
   "pygments_lexer": "ipython3",
   "version": "3.8.5"
  }
 },
 "nbformat": 4,
 "nbformat_minor": 4
}
