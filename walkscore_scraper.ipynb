# https://github.com/insightindustry/walkscore-api/tree/master
from walkscore import WalkScoreAPI

api_key = 'b962a2cd85e398bca7fb6bba51d8418e'
walkscore_api = WalkScoreAPI(api_key = api_key)

lat_long_bank = [[42.381510,-71.120180],[42.391510,-71.120180],[42.401510,-71.120180]]

#result = walkscore_api.get_score(latitude = 42.381510, longitude = -71.120180)

result.walk_score

for i in lat_long_bank:
    result = walkscore_api.get_score(latitude = i[0], longitude = i[1])
    print(result.walk_score)
